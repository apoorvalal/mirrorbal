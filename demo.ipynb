{
 "cells": [
  {
   "cell_type": "code",
   "execution_count": 1,
   "id": "faa417e9",
   "metadata": {},
   "outputs": [],
   "source": [
    "import numpy as np\n",
    "from estimator import BalancingWeightsEstimator"
   ]
  },
  {
   "cell_type": "markdown",
   "id": "7f01f655",
   "metadata": {},
   "source": [
    "## Kang Schafer"
   ]
  },
  {
   "cell_type": "code",
   "execution_count": 2,
   "id": "834248ef",
   "metadata": {},
   "outputs": [],
   "source": [
    "class kang_schafer:\n",
    "    def __init__(self, size: int = 2000):\n",
    "        self.size = size\n",
    "        np.random.seed(123)  # Added for reproducibility in this test run\n",
    "        self.covariates = np.random.randn(size, 4)\n",
    "        propensity_score = 1.0 / (\n",
    "            1.0 + np.exp(-np.dot(self.covariates, np.array([-1.0, 0.5, -0.25, -0.1])))\n",
    "        )\n",
    "        self.treatment = np.random.binomial(1, propensity_score)\n",
    "        self.outcome = (\n",
    "            210.0\n",
    "            + np.dot(self.covariates, np.array([27.4, 13.7, 13.7, 13.7]))\n",
    "            + np.random.randn(size)\n",
    "        )\n",
    "\n",
    "    @property\n",
    "    def transformed_covariates(self) -> np.ndarray:\n",
    "        x1, x2, x3, x4 = np.hsplit(self.covariates, 4)\n",
    "        return np.hstack(\n",
    "            [\n",
    "                np.exp(x1 / 2.0),\n",
    "                x2 / (1 + np.exp(x1)) + 10.0,\n",
    "                np.power(x1 * x3 / 25 + 0.6, 3),\n",
    "                np.square(x2 + x4 + 20.0),\n",
    "            ]\n",
    "        )"
   ]
  },
  {
   "cell_type": "code",
   "execution_count": 3,
   "id": "d6ec9b32",
   "metadata": {},
   "outputs": [],
   "source": [
    "# --- Test on Kang-Schafer data ---\n",
    "ks_data = kang_schafer(size=10_000)"
   ]
  },
  {
   "cell_type": "markdown",
   "id": "e79086e1",
   "metadata": {},
   "source": [
    "### Correctly Specified"
   ]
  },
  {
   "cell_type": "code",
   "execution_count": 4,
   "id": "5abfc681",
   "metadata": {},
   "outputs": [
    {
     "name": "stdout",
     "output_type": "stream",
     "text": [
      "\n",
      "Naive Difference in Means (Raw Covariates): -20.1077\n",
      "True ATT should be 0.\n"
     ]
    }
   ],
   "source": [
    "Y_t_raw = ks_data.outcome[ks_data.treatment == 1]\n",
    "Y_c_raw = ks_data.outcome[ks_data.treatment == 0]\n",
    "naive_diff_raw = np.mean(Y_t_raw) - np.mean(Y_c_raw)\n",
    "print(f\"\\nNaive Difference in Means (Raw Covariates): {naive_diff_raw:.4f}\")\n",
    "print(\"True ATT should be 0.\")"
   ]
  },
  {
   "cell_type": "code",
   "execution_count": 5,
   "id": "a325f207",
   "metadata": {},
   "outputs": [
    {
     "name": "stdout",
     "output_type": "stream",
     "text": [
      "--- Testing with RAW COVARIATES ---\n",
      "--- Balancing Weights Estimator Summary ---\n",
      "Estimated ATT: -0.0375\n",
      "Mean Y treated: 200.4843\n",
      "Weighted Mean Y control: 200.5218\n",
      "Number of treated units: 5021\n",
      "Number of control units: 4979\n"
     ]
    }
   ],
   "source": [
    "print(\"--- Testing with RAW COVARIATES ---\")\n",
    "estimator_raw = BalancingWeightsEstimator(solver_iters=20000, solver_tolerance=1e-10)\n",
    "estimator_raw.fit(ks_data.covariates, ks_data.outcome, ks_data.treatment)\n",
    "estimator_raw.summary()"
   ]
  },
  {
   "cell_type": "code",
   "execution_count": 6,
   "id": "7c20686a",
   "metadata": {},
   "outputs": [
    {
     "data": {
      "text/plain": [
       "{'Treated Mean': array([-0.3888113 ,  0.20242872, -0.09164977, -0.0277883 ]),\n",
       " 'Control Mean': array([ 0.40614924, -0.19347029,  0.11011067,  0.04333858]),\n",
       " 'Weighted Control Mean': array([-0.38879409,  0.20242316, -0.09164405, -0.02778622]),\n",
       " 'Pre-weighting Imbalance': array([-0.79496055,  0.39589901, -0.20176044, -0.07112689]),\n",
       " 'Post-weighting Imbalance': array([-1.72078585e-05,  5.56851491e-06, -5.72105360e-06, -2.08195967e-06])}"
      ]
     },
     "execution_count": 6,
     "metadata": {},
     "output_type": "execute_result"
    }
   ],
   "source": [
    "estimator_raw.balance_table()"
   ]
  },
  {
   "cell_type": "markdown",
   "id": "c6aacc1f",
   "metadata": {},
   "source": [
    "### misspecification"
   ]
  },
  {
   "cell_type": "code",
   "execution_count": 7,
   "id": "ef652a30",
   "metadata": {},
   "outputs": [
    {
     "name": "stdout",
     "output_type": "stream",
     "text": [
      "--- Balancing Weights Estimator Summary ---\n",
      "Estimated ATT: -24.4460\n",
      "Mean Y treated: 200.4843\n",
      "Weighted Mean Y control: 224.9303\n",
      "Number of treated units: 5021\n",
      "Number of control units: 4979\n"
     ]
    }
   ],
   "source": [
    "estimator_transformed = BalancingWeightsEstimator(\n",
    "    solver_iters=20000, solver_tolerance=1e-10\n",
    ")\n",
    "estimator_transformed.fit(\n",
    "    ks_data.transformed_covariates, ks_data.outcome, ks_data.treatment\n",
    ")\n",
    "estimator_transformed.summary()"
   ]
  },
  {
   "cell_type": "markdown",
   "id": "1702455c",
   "metadata": {},
   "source": [
    "#### polynomials"
   ]
  },
  {
   "cell_type": "code",
   "execution_count": 12,
   "id": "da7bdcaa",
   "metadata": {},
   "outputs": [],
   "source": [
    "from sklearn.preprocessing import PolynomialFeatures\n",
    "\n",
    "# Assuming ks_data is your Kang-Schafer data instance\n",
    "original_transformed_cov = ks_data.transformed_covariates\n",
    "poly = PolynomialFeatures(degree=4, include_bias=False, interaction_only=False)\n",
    "# include_bias=False is generally good as simplex weights sum to 1.\n",
    "# interaction_only=False will include X1^2, X2^2 in addition to X1*X2 etc.\n",
    "X_poly_for_estimator = poly.fit_transform(original_transformed_cov)"
   ]
  },
  {
   "cell_type": "code",
   "execution_count": 13,
   "id": "f49779a6",
   "metadata": {},
   "outputs": [
    {
     "name": "stderr",
     "output_type": "stream",
     "text": [
      "/home/alal/Desktop/code/econometrics/balancer/estimator.py:125: RuntimeWarning: overflow encountered in exp\n",
      "  beta = beta * np.exp(-up)\n",
      "/home/alal/Desktop/code/econometrics/balancer/estimator.py:134: RuntimeWarning: invalid value encountered in divide\n",
      "  beta_section / sum_beta_section\n"
     ]
    },
    {
     "name": "stdout",
     "output_type": "stream",
     "text": [
      "--- Balancing Weights Estimator Summary ---\n",
      "Estimated ATT: -20.1077\n",
      "Mean Y treated: 200.4843\n",
      "Weighted Mean Y control: 220.5920\n",
      "Number of treated units: 5021\n",
      "Number of control units: 4979\n"
     ]
    }
   ],
   "source": [
    "estimator_transformed.fit(X_poly_for_estimator, ks_data.outcome, ks_data.treatment)\n",
    "estimator_transformed.summary()"
   ]
  },
  {
   "cell_type": "markdown",
   "id": "732be0c4",
   "metadata": {},
   "source": [
    "#### Kernel approximation"
   ]
  },
  {
   "cell_type": "code",
   "execution_count": 10,
   "id": "8d6ac6a8",
   "metadata": {},
   "outputs": [],
   "source": [
    "from sklearn.kernel_approximation import Nystroem\n",
    "\n",
    "original_transformed_cov = ks_data.transformed_covariates\n",
    "# Choose kernel, gamma, n_components. These may require tuning.\n",
    "# For RBF kernel, gamma is crucial. A common heuristic is 1 / (n_features * X.var())\n",
    "# or you can cross-validate.\n",
    "n_features_orig = original_transformed_cov.shape[1]\n",
    "gamma_rbf = 1.0 / (n_features_orig * np.var(original_transformed_cov))\n",
    "\n",
    "nystroem_approx = Nystroem(\n",
    "    kernel=\"rbf\", gamma=gamma_rbf, random_state=42, n_components=100\n",
    ")  # Number of components to approximate\n",
    "\n",
    "X_nystroem_for_estimator = nystroem_approx.fit_transform(original_transformed_cov)"
   ]
  },
  {
   "cell_type": "code",
   "execution_count": 11,
   "id": "150ad051",
   "metadata": {},
   "outputs": [
    {
     "name": "stdout",
     "output_type": "stream",
     "text": [
      "--- Balancing Weights Estimator Summary ---\n",
      "Estimated ATT: -22.4781\n",
      "Mean Y treated: 200.4843\n",
      "Weighted Mean Y control: 222.9625\n",
      "Number of treated units: 5021\n",
      "Number of control units: 4979\n"
     ]
    }
   ],
   "source": [
    "estimator_transformed_nystroem = BalancingWeightsEstimator(\n",
    "    solver_iters=20000, solver_tolerance=1e-10\n",
    ")\n",
    "estimator_transformed_nystroem.fit(\n",
    "    X_nystroem_for_estimator,\n",
    "    ks_data.outcome,\n",
    "    ks_data.treatment\n",
    ")\n",
    "estimator_transformed_nystroem.summary()"
   ]
  }
 ],
 "metadata": {
  "kernelspec": {
   "display_name": "metrics",
   "language": "python",
   "name": "python3"
  },
  "language_info": {
   "codemirror_mode": {
    "name": "ipython",
    "version": 3
   },
   "file_extension": ".py",
   "mimetype": "text/x-python",
   "name": "python",
   "nbconvert_exporter": "python",
   "pygments_lexer": "ipython3",
   "version": "3.13.3"
  }
 },
 "nbformat": 4,
 "nbformat_minor": 5
}
